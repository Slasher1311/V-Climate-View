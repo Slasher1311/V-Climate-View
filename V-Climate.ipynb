{
 "cells": [
  {
   "cell_type": "code",
   "execution_count": 7,
   "metadata": {},
   "outputs": [],
   "source": [
    "import dask.dataframe as dd"
   ]
  },
  {
   "cell_type": "code",
   "execution_count": 8,
   "metadata": {},
   "outputs": [],
   "source": [
    "# Load our data\n",
    "df = dd.read_csv('weather_cleaned.csv')"
   ]
  },
  {
   "cell_type": "code",
   "execution_count": 9,
   "metadata": {},
   "outputs": [
    {
     "data": {
      "text/html": [
       "<div>\n",
       "<style scoped>\n",
       "    .dataframe tbody tr th:only-of-type {\n",
       "        vertical-align: middle;\n",
       "    }\n",
       "\n",
       "    .dataframe tbody tr th {\n",
       "        vertical-align: top;\n",
       "    }\n",
       "\n",
       "    .dataframe thead th {\n",
       "        text-align: right;\n",
       "    }\n",
       "</style>\n",
       "<table border=\"1\" class=\"dataframe\">\n",
       "  <thead>\n",
       "    <tr style=\"text-align: right;\">\n",
       "      <th></th>\n",
       "      <th>date</th>\n",
       "      <th>year</th>\n",
       "      <th>month</th>\n",
       "      <th>day</th>\n",
       "      <th>tmp_c</th>\n",
       "      <th>dew_c</th>\n",
       "      <th>slp_hpa</th>\n",
       "      <th>vis_m</th>\n",
       "      <th>cloud_ceiling</th>\n",
       "      <th>wind_dir</th>\n",
       "      <th>wind_speed</th>\n",
       "      <th>station</th>\n",
       "      <th>call_sign</th>\n",
       "      <th>report_type</th>\n",
       "      <th>quality_control</th>\n",
       "    </tr>\n",
       "  </thead>\n",
       "  <tbody>\n",
       "    <tr>\n",
       "      <th>0</th>\n",
       "      <td>1967-07-31 23:00:00</td>\n",
       "      <td>1967</td>\n",
       "      <td>7</td>\n",
       "      <td>31</td>\n",
       "      <td>26.8</td>\n",
       "      <td>21.8</td>\n",
       "      <td>1002.9</td>\n",
       "      <td>16000.0</td>\n",
       "      <td>2400.0</td>\n",
       "      <td>230.0</td>\n",
       "      <td>1.0</td>\n",
       "      <td>48855699999</td>\n",
       "      <td>IAHO</td>\n",
       "      <td>SAO</td>\n",
       "      <td>V020</td>\n",
       "    </tr>\n",
       "    <tr>\n",
       "      <th>1</th>\n",
       "      <td>1967-08-01 00:00:00</td>\n",
       "      <td>1967</td>\n",
       "      <td>8</td>\n",
       "      <td>1</td>\n",
       "      <td>27.4</td>\n",
       "      <td>22.4</td>\n",
       "      <td>1003.2</td>\n",
       "      <td>16000.0</td>\n",
       "      <td>2400.0</td>\n",
       "      <td>240.0</td>\n",
       "      <td>1.0</td>\n",
       "      <td>48855699999</td>\n",
       "      <td>IAHO</td>\n",
       "      <td>SAO</td>\n",
       "      <td>V020</td>\n",
       "    </tr>\n",
       "    <tr>\n",
       "      <th>2</th>\n",
       "      <td>1967-08-01 01:00:00</td>\n",
       "      <td>1967</td>\n",
       "      <td>8</td>\n",
       "      <td>1</td>\n",
       "      <td>29.1</td>\n",
       "      <td>21.8</td>\n",
       "      <td>1003.6</td>\n",
       "      <td>16000.0</td>\n",
       "      <td>22000.0</td>\n",
       "      <td>240.0</td>\n",
       "      <td>1.0</td>\n",
       "      <td>48855699999</td>\n",
       "      <td>IAHO</td>\n",
       "      <td>SAO</td>\n",
       "      <td>V020</td>\n",
       "    </tr>\n",
       "    <tr>\n",
       "      <th>3</th>\n",
       "      <td>1967-08-01 02:00:00</td>\n",
       "      <td>1967</td>\n",
       "      <td>8</td>\n",
       "      <td>1</td>\n",
       "      <td>30.2</td>\n",
       "      <td>22.4</td>\n",
       "      <td>1003.9</td>\n",
       "      <td>16000.0</td>\n",
       "      <td>22000.0</td>\n",
       "      <td>210.0</td>\n",
       "      <td>2.6</td>\n",
       "      <td>48855699999</td>\n",
       "      <td>IAHO</td>\n",
       "      <td>SAO</td>\n",
       "      <td>V020</td>\n",
       "    </tr>\n",
       "    <tr>\n",
       "      <th>4</th>\n",
       "      <td>1967-08-01 03:00:00</td>\n",
       "      <td>1967</td>\n",
       "      <td>8</td>\n",
       "      <td>1</td>\n",
       "      <td>31.3</td>\n",
       "      <td>21.3</td>\n",
       "      <td>1003.9</td>\n",
       "      <td>16000.0</td>\n",
       "      <td>22000.0</td>\n",
       "      <td>220.0</td>\n",
       "      <td>3.6</td>\n",
       "      <td>48855699999</td>\n",
       "      <td>IAHO</td>\n",
       "      <td>SAO</td>\n",
       "      <td>V020</td>\n",
       "    </tr>\n",
       "  </tbody>\n",
       "</table>\n",
       "</div>"
      ],
      "text/plain": [
       "                  date  year  month  day  tmp_c  dew_c  slp_hpa    vis_m  \\\n",
       "0  1967-07-31 23:00:00  1967      7   31   26.8   21.8   1002.9  16000.0   \n",
       "1  1967-08-01 00:00:00  1967      8    1   27.4   22.4   1003.2  16000.0   \n",
       "2  1967-08-01 01:00:00  1967      8    1   29.1   21.8   1003.6  16000.0   \n",
       "3  1967-08-01 02:00:00  1967      8    1   30.2   22.4   1003.9  16000.0   \n",
       "4  1967-08-01 03:00:00  1967      8    1   31.3   21.3   1003.9  16000.0   \n",
       "\n",
       "   cloud_ceiling  wind_dir  wind_speed      station call_sign report_type  \\\n",
       "0         2400.0     230.0         1.0  48855699999     IAHO        SAO     \n",
       "1         2400.0     240.0         1.0  48855699999     IAHO        SAO     \n",
       "2        22000.0     240.0         1.0  48855699999     IAHO        SAO     \n",
       "3        22000.0     210.0         2.6  48855699999     IAHO        SAO     \n",
       "4        22000.0     220.0         3.6  48855699999     IAHO        SAO     \n",
       "\n",
       "  quality_control  \n",
       "0            V020  \n",
       "1            V020  \n",
       "2            V020  \n",
       "3            V020  \n",
       "4            V020  "
      ]
     },
     "execution_count": 9,
     "metadata": {},
     "output_type": "execute_result"
    }
   ],
   "source": [
    "df.head()"
   ]
  },
  {
   "cell_type": "code",
   "execution_count": 10,
   "metadata": {},
   "outputs": [
    {
     "data": {
      "text/plain": [
       "Index(['date', 'year', 'month', 'day', 'tmp_c', 'dew_c', 'slp_hpa', 'vis_m',\n",
       "       'cloud_ceiling', 'wind_dir', 'wind_speed', 'station', 'call_sign',\n",
       "       'report_type', 'quality_control'],\n",
       "      dtype='object')"
      ]
     },
     "execution_count": 10,
     "metadata": {},
     "output_type": "execute_result"
    }
   ],
   "source": [
    "df.columns"
   ]
  },
  {
   "cell_type": "code",
   "execution_count": 11,
   "metadata": {},
   "outputs": [
    {
     "data": {
      "text/plain": [
       "date               string[pyarrow]\n",
       "year                         int64\n",
       "month                        int64\n",
       "day                          int64\n",
       "tmp_c                      float64\n",
       "dew_c                      float64\n",
       "slp_hpa                    float64\n",
       "vis_m                      float64\n",
       "cloud_ceiling              float64\n",
       "wind_dir                   float64\n",
       "wind_speed                 float64\n",
       "station                      int64\n",
       "call_sign          string[pyarrow]\n",
       "report_type        string[pyarrow]\n",
       "quality_control    string[pyarrow]\n",
       "dtype: object"
      ]
     },
     "execution_count": 11,
     "metadata": {},
     "output_type": "execute_result"
    }
   ],
   "source": [
    "df.dtypes"
   ]
  }
 ],
 "metadata": {
  "kernelspec": {
   "display_name": "base",
   "language": "python",
   "name": "python3"
  },
  "language_info": {
   "codemirror_mode": {
    "name": "ipython",
    "version": 3
   },
   "file_extension": ".py",
   "mimetype": "text/x-python",
   "name": "python",
   "nbconvert_exporter": "python",
   "pygments_lexer": "ipython3",
   "version": "3.12.7"
  }
 },
 "nbformat": 4,
 "nbformat_minor": 2
}
